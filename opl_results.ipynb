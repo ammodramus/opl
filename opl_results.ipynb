{
 "cells": [
  {
   "cell_type": "code",
   "execution_count": 1,
   "metadata": {
    "collapsed": false
   },
   "outputs": [],
   "source": [
    "%matplotlib inline\n",
    "from __future__ import division\n",
    "import numpy as np\n",
    "import numpy.random as npr\n",
    "import scipy.optimize as opt\n",
    "import sys\n",
    "import pandas as pd\n",
    "import matplotlib as mpl\n",
    "import matplotlib.pyplot as plt\n",
    "import glob\n",
    "import re"
   ]
  },
  {
   "cell_type": "code",
   "execution_count": 2,
   "metadata": {
    "collapsed": true
   },
   "outputs": [],
   "source": [
    "# Highest posterior density credible intervals\n",
    "def hpd(trace, mass_frac):\n",
    "    d = np.sort(np.copy(trace))\n",
    "    n = len(trace)\n",
    "    n_samples = np.floor(mass_frac * n).astype(int)\n",
    "    int_width = d[n_samples:] - d[:n-n_samples]\n",
    "    min_int = np.argmin(int_width)\n",
    "    return np.array([d[min_int], d[min_int+n_samples]])"
   ]
  },
  {
   "cell_type": "markdown",
   "metadata": {},
   "source": [
    "# Summary\n",
    "\n",
    "Analyze posterior distributions of genetic drift and mutation rate parameters inferred by MOPE. See `run_mope.sh` for how to produce these data."
   ]
  },
  {
   "cell_type": "code",
   "execution_count": 3,
   "metadata": {
    "collapsed": false
   },
   "outputs": [],
   "source": [
    "# Load in the data. Say the first 30% is burnin, although this is not necessary\n",
    "# with the downsampled chains.\n",
    "dat = pd.read_csv('results/downsampled_chains.txt.gz', sep='\\t', compression='gzip')\n",
    "frac_burn = 0.3\n",
    "dat = dat.iloc[int(frac_burn*dat.shape[0]+0.5):,:]"
   ]
  },
  {
   "cell_type": "code",
   "execution_count": 4,
   "metadata": {
    "collapsed": false
   },
   "outputs": [
    {
     "data": {
      "text/html": [
       "<div>\n",
       "<style scoped>\n",
       "    .dataframe tbody tr th:only-of-type {\n",
       "        vertical-align: middle;\n",
       "    }\n",
       "\n",
       "    .dataframe tbody tr th {\n",
       "        vertical-align: top;\n",
       "    }\n",
       "\n",
       "    .dataframe thead th {\n",
       "        text-align: right;\n",
       "    }\n",
       "</style>\n",
       "<table border=\"1\" class=\"dataframe\">\n",
       "  <thead>\n",
       "    <tr style=\"text-align: right;\">\n",
       "      <th></th>\n",
       "      <th>ll</th>\n",
       "      <th>bl_l</th>\n",
       "      <th>ch_l</th>\n",
       "      <th>eoo_post_l</th>\n",
       "      <th>eoo_pre_l</th>\n",
       "      <th>fblo_l</th>\n",
       "      <th>fbuc_l</th>\n",
       "      <th>loo_l</th>\n",
       "      <th>som_l</th>\n",
       "      <th>bl_m</th>\n",
       "      <th>ch_m</th>\n",
       "      <th>eoo_post_m</th>\n",
       "      <th>eoo_pre_m</th>\n",
       "      <th>fblo_m</th>\n",
       "      <th>fbuc_m</th>\n",
       "      <th>loo_m</th>\n",
       "      <th>som_m</th>\n",
       "      <th>log10ab</th>\n",
       "      <th>log10polyprob</th>\n",
       "    </tr>\n",
       "  </thead>\n",
       "  <tbody>\n",
       "    <tr>\n",
       "      <th>30000</th>\n",
       "      <td>-13172.874365</td>\n",
       "      <td>0.0</td>\n",
       "      <td>0.0</td>\n",
       "      <td>0.132056</td>\n",
       "      <td>0.003121</td>\n",
       "      <td>0.011927</td>\n",
       "      <td>0.010170</td>\n",
       "      <td>0.000363</td>\n",
       "      <td>0.014905</td>\n",
       "      <td>NaN</td>\n",
       "      <td>NaN</td>\n",
       "      <td>2.686884e-06</td>\n",
       "      <td>6.775863e-06</td>\n",
       "      <td>7.155143e-08</td>\n",
       "      <td>1.480179e-08</td>\n",
       "      <td>0.000088</td>\n",
       "      <td>5.516483e-08</td>\n",
       "      <td>-2.238611</td>\n",
       "      <td>-2.779931</td>\n",
       "    </tr>\n",
       "    <tr>\n",
       "      <th>30001</th>\n",
       "      <td>-13170.869383</td>\n",
       "      <td>0.0</td>\n",
       "      <td>0.0</td>\n",
       "      <td>0.155020</td>\n",
       "      <td>0.002458</td>\n",
       "      <td>0.012064</td>\n",
       "      <td>0.006971</td>\n",
       "      <td>0.000282</td>\n",
       "      <td>0.018093</td>\n",
       "      <td>NaN</td>\n",
       "      <td>NaN</td>\n",
       "      <td>4.482617e-07</td>\n",
       "      <td>4.339268e-07</td>\n",
       "      <td>1.267212e-07</td>\n",
       "      <td>6.805832e-07</td>\n",
       "      <td>0.000238</td>\n",
       "      <td>3.042662e-08</td>\n",
       "      <td>-2.173346</td>\n",
       "      <td>-2.633224</td>\n",
       "    </tr>\n",
       "  </tbody>\n",
       "</table>\n",
       "</div>"
      ],
      "text/plain": [
       "                 ll  bl_l  ch_l  eoo_post_l  eoo_pre_l    fblo_l    fbuc_l  \\\n",
       "30000 -13172.874365   0.0   0.0    0.132056   0.003121  0.011927  0.010170   \n",
       "30001 -13170.869383   0.0   0.0    0.155020   0.002458  0.012064  0.006971   \n",
       "\n",
       "          loo_l     som_l  bl_m  ch_m    eoo_post_m     eoo_pre_m  \\\n",
       "30000  0.000363  0.014905   NaN   NaN  2.686884e-06  6.775863e-06   \n",
       "30001  0.000282  0.018093   NaN   NaN  4.482617e-07  4.339268e-07   \n",
       "\n",
       "             fblo_m        fbuc_m     loo_m         som_m   log10ab  \\\n",
       "30000  7.155143e-08  1.480179e-08  0.000088  5.516483e-08 -2.238611   \n",
       "30001  1.267212e-07  6.805832e-07  0.000238  3.042662e-08 -2.173346   \n",
       "\n",
       "       log10polyprob  \n",
       "30000      -2.779931  \n",
       "30001      -2.633224  "
      ]
     },
     "execution_count": 4,
     "metadata": {},
     "output_type": "execute_result"
    }
   ],
   "source": [
    "dat.head(2)"
   ]
  },
  {
   "cell_type": "code",
   "execution_count": 5,
   "metadata": {
    "collapsed": true
   },
   "outputs": [],
   "source": [
    "get_bots = lambda age: 2.0/(age*dat['loo_l'] + dat['eoo_pre_l'] + dat['eoo_post_l'] + dat['som_l'])"
   ]
  },
  {
   "cell_type": "code",
   "execution_count": 6,
   "metadata": {
    "collapsed": false
   },
   "outputs": [],
   "source": [
    "length_columns = dat.filter(regex='_l$').columns\n",
    "mut_columns = [lc.replace('_l', '_m') for lc in length_columns]"
   ]
  },
  {
   "cell_type": "code",
   "execution_count": 7,
   "metadata": {
    "collapsed": true
   },
   "outputs": [],
   "source": [
    "oplcolors = '''fblo #1f77b4   fixed\n",
    "blo  #1f77b4   rate\n",
    "fbuc #ff7f0e   fixed\n",
    "buc  #ff7f0e   rate\n",
    "som  #2ca02c   fixed\n",
    "loo  #9467bd   rate\n",
    "eoo_post  #d62728   fixed\n",
    "eoo_pre  #ff8080   fixed'''\n",
    "import cStringIO\n",
    "oplcolorsio = cStringIO.StringIO(oplcolors)\n",
    "colordat = pd.read_csv(oplcolorsio, sep='\\s+', header=None, names=['tissue', 'color', 'type'])\n",
    "colordat.columns = ['tissue', 'color', 'type']\n",
    "color_dict = {row.tissue:row.color for row in colordat.itertuples(index=False)}\n",
    "color_dict['bl'] = color_dict['blo']\n",
    "color_dict['ch'] = color_dict['buc']\n",
    "colordat.loc[colordat['tissue'] == 'eoo_pre','color'] = '#d62728'\n",
    "colordat.loc[colordat['tissue'] == 'eoo_post','color'] = '#ff8080'"
   ]
  },
  {
   "cell_type": "markdown",
   "metadata": {
    "collapsed": true
   },
   "source": [
    "## plots"
   ]
  },
  {
   "cell_type": "code",
   "execution_count": 8,
   "metadata": {
    "collapsed": false
   },
   "outputs": [],
   "source": [
    "histbins = np.linspace(np.log10(5e-4), 0, 100)\n",
    "mpl.rc('text', usetex = False)\n",
    "better_labels = {\n",
    "    'eoo': 'early oogenesis',\n",
    "    'eoo_post': 'early oogenesis, post-divergence',\n",
    "    'eoo_pre': 'early oogenesis, pre-divergence',\n",
    "    'fblo': 'early somatic: blood',\n",
    "    'fbuc': 'early somatic: cheek',\n",
    "    'bl': 'adult somatic: blood',\n",
    "    'ch': 'adult somatic: cheek',\n",
    "    'loo': 'late oogensis: dictyate',\n",
    "    'som': 'early somatic: pre-gastrulation'}\n",
    "violin_data = []\n",
    "violin_colors = []\n",
    "violin_labels = []\n",
    "violin_frac_zeros = []\n",
    "for lc in length_columns:\n",
    "    name = lc.replace('_l', '')\n",
    "    if name in ['bl', 'ch']:\n",
    "        continue\n",
    "    color = color_dict[name]\n",
    "    if name == 'loo':\n",
    "        datp = dat[lc]*29.2\n",
    "    else:\n",
    "        datp = dat[lc]\n",
    "    with np.errstate(divide='ignore'):\n",
    "        tmp = np.log10(datp.values)\n",
    "        violin_data.append(tmp[np.isfinite(tmp)])\n",
    "    violin_colors.append(color)\n",
    "    violin_labels.append(better_labels[name])\n",
    "    violin_frac_zeros.append((datp == 0.0).sum() / datp.shape[0])"
   ]
  },
  {
   "cell_type": "code",
   "execution_count": 9,
   "metadata": {
    "collapsed": false
   },
   "outputs": [
    {
     "data": {
      "image/png": "[encoded data removed]",
      "text/plain": [
       "<matplotlib.figure.Figure at 0x7fb31980c490>"
      ]
     },
     "metadata": {},
     "output_type": "display_data"
    }
   ],
   "source": [
    "# Plot of posterior distributions of genetic drift parameters\n",
    "mpl.rcParams['font.size'] = 10\n",
    "uniform_sample = np.random.uniform(np.log10(5e-4), np.log10(3), size = 1000000)\n",
    "frac_zero_uniform = 1.0/(np.log10(3)-np.log10(5e-5))\n",
    "# this requires the previous cell be run in order to set up the violin plot data\n",
    "lw = 2\n",
    "f, ax = plt.subplots(figsize = (8,4))\n",
    "n = 1000\n",
    "violin_data_thinned = [np.random.choice(d, size=n, replace=False) for d in violin_data]\n",
    "violin_order = np.argsort([np.median(vdt) for vdt in violin_data_thinned])\n",
    "vd = [violin_data_thinned[el] for el in violin_order] + [uniform_sample]\n",
    "vc = [violin_colors[el] for el in violin_order] + ['#cccccc']\n",
    "vl = [violin_labels[el] for el in violin_order] + ['prior distribution']\n",
    "parts = plt.violinplot(vd, showmedians=True, widths=0.7, vert=False, showextrema=False, bw_method='scott')\n",
    "for pc, color in zip(parts['bodies'], vc):\n",
    "    pc.set_facecolor(color)\n",
    "    pc.set_alpha(1)\n",
    "    pc.set_edgecolor('black')\n",
    "    pc.set_linewidth(lw)\n",
    "xticks = np.log10((1e-4, 5e-4, 1e-3, 5e-3, 1e-2, 5e-2, 1e-1, 5e-1, 1))\n",
    "xtl = ('1e-4', '5e-4', '1e-3', '5e-3', '1e-2', '5e-2', '1e-1', '5e-1', '1e0')\n",
    "xticks_major = np.concatenate(([-5.5,-4.5], xticks[::2]))\n",
    "xticks_minor = xticks[1:][::2]\n",
    "xtl_major = np.concatenate((['Pr=0', 'Pr=1'], np.array(xtl)[::2]))\n",
    "\n",
    "lw = 1.5\n",
    "parts['cmedians'].set_color('white')\n",
    "parts['cmedians'].set_linewidth(lw+1)\n",
    "\n",
    "ax.axvline(-5.5, lw = 1, color = 'black')\n",
    "ax.axvline(-4.5, lw = 1, color = 'black')\n",
    "fzs = [violin_frac_zeros[el] for el in violin_order] + [frac_zero_uniform]\n",
    "\n",
    "rect_width = 0.5\n",
    "for i, (fz, color) in enumerate(zip(fzs, vc)):\n",
    "    xy = (-5.5, i+1-rect_width/2.0)\n",
    "    rect = mpl.patches.Rectangle(xy, width = fz, height = rect_width, transform = ax.transData)\n",
    "    rect.set_facecolor(color)\n",
    "    rect.set_edgecolor('black')\n",
    "    ax.add_patch(rect)\n",
    "\n",
    "ax.set_yticklabels([''] + vl)\n",
    "ax.set_xticks(xticks_major)\n",
    "ax.set_xticks(xticks_minor, minor = True)\n",
    "ax.set_xticklabels(xtl_major)\n",
    "ax.set_xlim((-5.7, np.log10(3)+0.2))\n",
    "ax.set_xlabel('genetic drift (generations / Ne)')\n",
    "f.tight_layout()\n"
   ]
  },
  {
   "cell_type": "code",
   "execution_count": 10,
   "metadata": {
    "collapsed": false
   },
   "outputs": [
    {
     "data": {
      "image/png": "[encoded data removed]",
      "text/plain": [
       "<matplotlib.figure.Figure at 0x7fb314537ad0>"
      ]
     },
     "metadata": {},
     "output_type": "display_data"
    }
   ],
   "source": [
    "# Plot of posterior distributions of mutation rate parameters\n",
    "\n",
    "\n",
    "vms = []\n",
    "vm_colors = []\n",
    "vm_fz = []\n",
    "vm_labels = []\n",
    "for i in range(len(mut_columns)):\n",
    "    mc = mut_columns[i]\n",
    "    lc = length_columns[i]\n",
    "    name = lc.replace('_l', '')\n",
    "    if name in ['bl', 'ch']:\n",
    "        continue\n",
    "    color = colordat.loc[colordat['tissue'] == lc.replace('_l', ''), 'color']\n",
    "    datp = dat[mc]\n",
    "    with np.errstate(divide='ignore'):\n",
    "        datp_l = np.log10(dat[lc])\n",
    "    finitefilt = np.isfinite(datp_l)\n",
    "    p0 = (~finitefilt).sum()/float(dat.shape[0])\n",
    "    vm_labels.append(better_labels[name])\n",
    "    vm_colors.append(color)\n",
    "    vm_fz.append((~finitefilt).sum()/float(finitefilt.shape[0]))\n",
    "    vms.append(np.log10(datp.values[finitefilt]))\n",
    "\n",
    "\n",
    "mpl.rcParams.update({'font.size':14})\n",
    "# this requires the previous cell be run in order to set up the violin plot data\n",
    "uniform_sample = npr.uniform(-8, -1, size = 10000)\n",
    "lw = 2\n",
    "f, ax = plt.subplots(figsize = (9,5))\n",
    "n = 1000\n",
    "vms_thinned = [np.random.choice(d, size = n, replace = False) for d in vms]\n",
    "vm_order = np.argsort([np.median(vdt) for vdt in vms_thinned])\n",
    "vd = [vms_thinned[el] for el in vm_order] + [uniform_sample]\n",
    "vc = [violin_colors[el] for el in vm_order] + ['#cccccc']\n",
    "vl = [vm_labels[el] for el in vm_order] + ['prior distribution']\n",
    "parts = plt.violinplot(vd, showmedians = True, widths=0.7, vert = False, showextrema = False, bw_method =  'scott')\n",
    "for pc, color in zip(parts['bodies'], vc):\n",
    "    pc.set_facecolor(color)\n",
    "    pc.set_alpha(1)\n",
    "    pc.set_edgecolor('black')\n",
    "    pc.set_linewidth(lw)\n",
    "parts['cmedians'].set_color('white')\n",
    "parts['cmedians'].set_linewidth(lw+1)\n",
    "xticks = np.arange(-8,0)\n",
    "xticks_major = xticks[::2]\n",
    "xticks_minor = xticks[1:][::2]\n",
    "ax.set_xticks(xticks_major)\n",
    "ax.set_xticks(xticks_minor, minor = True)\n",
    "xtl = ['1e{}'.format(el) for el in xticks_major]\n",
    "ax.set_xticklabels(xtl)\n",
    "ax.set_yticklabels([''] + vl)\n",
    "ax.set_xlabel('mutation rate (2*Ne*mu)')\n",
    "f.tight_layout()\n",
    "#plt.savefig('mutation_rate_violin_final_nc.png', dpi = 500)\n",
    "#plt.savefig('mutation_rate_violin_final_nc.pdf', dpi = 500)"
   ]
  },
  {
   "cell_type": "markdown",
   "metadata": {},
   "source": [
    "# Posterior distribution summary statistics\n",
    "\n",
    "These differ slightly from the paper because of the downsampled chains used for this repository."
   ]
  },
  {
   "cell_type": "code",
   "execution_count": 11,
   "metadata": {
    "collapsed": false
   },
   "outputs": [
    {
     "name": "stdout",
     "output_type": "stream",
     "text": [
      "13.3870649615 [10.27660788 17.34844705]\n"
     ]
    }
   ],
   "source": [
    "# Effective bottleneck size for just early oogenesis\n",
    "eoo_bots = 2.0/(dat['eoo_pre_l']+dat['eoo_post_l'])\n",
    "print eoo_bots.median(), hpd(eoo_bots, 0.95)"
   ]
  },
  {
   "cell_type": "code",
   "execution_count": 12,
   "metadata": {
    "collapsed": false
   },
   "outputs": [
    {
     "name": "stdout",
     "output_type": "stream",
     "text": [
      "-0.053310109289840334 [-0.10621387 -0.01057898]\n"
     ]
    }
   ],
   "source": [
    "# Effective rate of bottleneck decrease, linearized between ages 34 and 25\n",
    "bots_25 = get_bots(25)\n",
    "bots_34 = get_bots(34)\n",
    "rates = (bots_34-bots_25)/(34-25)\n",
    "print np.median(rates), hpd(rates, 0.95)"
   ]
  },
  {
   "cell_type": "code",
   "execution_count": 13,
   "metadata": {
    "collapsed": false
   },
   "outputs": [
    {
     "name": "stdout",
     "output_type": "stream",
     "text": [
      "bl_m None\n",
      "ch_m None\n",
      "eoo_post_m 1.22338541113e-07 [1.00002654e-08 2.19484585e-06]\n",
      "eoo_pre_m 8.82596964414e-07 [1.00021830e-08 9.86814956e-05]\n",
      "fblo_m 8.9119472838e-08 [1.00001144e-08 1.18734669e-06]\n",
      "fbuc_m 1.40945225911e-07 [1.00047428e-08 2.87512664e-06]\n",
      "loo_m 6.11431051941e-05 [2.45450791e-05 1.51470341e-04]\n",
      "som_m 1.50437315127e-07 [1.00002389e-08 3.17556447e-06]\n"
     ]
    }
   ],
   "source": [
    "# Mutation rate posterior medians and 95% HPD CIs\n",
    "for col in dat.columns[dat.columns.str.endswith('_m')]:\n",
    "    lcol = col.replace('_m', '_l')\n",
    "    posfilt = dat[lcol] > 0\n",
    "    if posfilt.sum() > 0:\n",
    "        print col, dat.loc[finitefilt,col].median(), np.array(hpd(dat.loc[posfilt,col],0.95))\n",
    "    else:\n",
    "        print col, None"
   ]
  },
  {
   "cell_type": "code",
   "execution_count": 14,
   "metadata": {
    "collapsed": false
   },
   "outputs": [],
   "source": [
    "filt = dat['fblo_l'] > 0\n",
    "bots_blo = 2.0/dat['fblo_l'][filt]\n",
    "filt = dat['fbuc_l'] > 0\n",
    "bots_buc = 2.0/dat['fbuc_l'][filt]"
   ]
  },
  {
   "cell_type": "code",
   "execution_count": 15,
   "metadata": {
    "collapsed": false
   },
   "outputs": [
    {
     "name": "stdout",
     "output_type": "stream",
     "text": [
      "134.889893794 [106.68450509 167.96111102]\n",
      "262.923990596 [181.35327785 380.46948699]\n"
     ]
    }
   ],
   "source": [
    "# Somatic bottleneck sizes\n",
    "print bots_blo.median(), hpd(bots_blo, 0.95)\n",
    "print bots_buc.median(), hpd(bots_buc, 0.95)"
   ]
  },
  {
   "cell_type": "code",
   "execution_count": 16,
   "metadata": {
    "collapsed": false
   },
   "outputs": [
    {
     "data": {
      "text/plain": [
       "(10.326658320545095, array([ 8.50629739, 12.31088354]))"
      ]
     },
     "execution_count": 16,
     "metadata": {},
     "output_type": "execute_result"
    }
   ],
   "source": [
    "# Combined effective germline bottleneck size\n",
    "total_germline = dat['eoo_pre_l']+dat['eoo_post_l']+29.2*dat['loo_l']+dat['som_l']\n",
    "bots_total = 2.0/total_germline\n",
    "np.median(bots_total), hpd(bots_total, 0.95)"
   ]
  },
  {
   "cell_type": "code",
   "execution_count": 17,
   "metadata": {
    "collapsed": false
   },
   "outputs": [
    {
     "data": {
      "text/plain": [
       "(0.006478635462159977, array([0.        , 0.04895484]))"
      ]
     },
     "execution_count": 17,
     "metadata": {},
     "output_type": "execute_result"
    }
   ],
   "source": [
    "# Fraction of combined effective germline bottleneck\n",
    "# that happens before oogonia diverge\n",
    "frac_ebs_is_pre = (dat['eoo_pre_l'])/(total_germline)\n",
    "frac_ebs_is_pre.median(), hpd(frac_ebs_is_pre, 0.95)"
   ]
  },
  {
   "cell_type": "code",
   "execution_count": 18,
   "metadata": {
    "collapsed": false
   },
   "outputs": [
    {
     "data": {
      "text/plain": [
       "(0.9915627263104978, array([0.93497898, 1.        ]))"
      ]
     },
     "execution_count": 18,
     "metadata": {},
     "output_type": "execute_result"
    }
   ],
   "source": [
    "# Fraction of early oogenesis drift that happens before\n",
    "# vs after oogonia diverge\n",
    "total_eoo = dat['eoo_pre_l'] + dat['eoo_post_l']\n",
    "filt = total_eoo > 0\n",
    "frac_eoo_is_pre = ((dat['eoo_pre_l'])/total_eoo)[filt]\n",
    "frac_eoo_is_post = 1.0 - frac_eoo_is_pre\n",
    "frac_eoo_is_post.median(), hpd(frac_eoo_is_post, 0.95)"
   ]
  },
  {
   "cell_type": "code",
   "execution_count": 19,
   "metadata": {
    "collapsed": false
   },
   "outputs": [
    {
     "data": {
      "image/png": "[encoded data removed]",
      "text/plain": [
       "<matplotlib.figure.Figure at 0x7fb3198f7510>"
      ]
     },
     "metadata": {},
     "output_type": "display_data"
    }
   ],
   "source": [
    "# Plot posterior distribution of fraction of early oogenesis\n",
    "# drift happening after oogonia diverge\n",
    "with mpl.rc_context({'font.size': 14}):\n",
    "    f, ax = plt.subplots(1,1, figsize=(5,4))\n",
    "    plt.hist(frac_eoo_is_post, np.linspace(0,1,200), normed=True)\n",
    "    ax = plt.gca()\n",
    "    ax.set_xlabel('fraction of drift during early oogenesis\\noccurring after oogonia diverge')\n",
    "    ax.set_ylabel('density');\n",
    "    f = plt.gcf()\n",
    "    f.tight_layout()"
   ]
  }
 ],
 "metadata": {
  "hide_input": false,
  "kernelspec": {
   "display_name": "Python [anaconda2]",
   "language": "python",
   "name": "Python [anaconda2]"
  },
  "language_info": {
   "codemirror_mode": {
    "name": "ipython",
    "version": 2
   },
   "file_extension": ".py",
   "mimetype": "text/x-python",
   "name": "python",
   "nbconvert_exporter": "python",
   "pygments_lexer": "ipython2",
   "version": "2.7.11"
  }
 },
 "nbformat": 4,
 "nbformat_minor": 0
}
