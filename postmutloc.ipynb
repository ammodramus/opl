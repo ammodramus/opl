{
 "cells": [
  {
   "cell_type": "code",
   "execution_count": 1,
   "metadata": {
    "collapsed": true
   },
   "outputs": [],
   "source": [
    "%matplotlib inline\n",
    "from __future__ import division\n",
    "import numpy as np\n",
    "import numpy.random as npr\n",
    "import scipy.optimize as opt\n",
    "import sys\n",
    "import pandas as pd\n",
    "import matplotlib as mpl\n",
    "import matplotlib.pyplot as plt\n",
    "import re\n",
    "import sys\n",
    "import glob\n",
    "\n",
    "from scipy.special import logsumexp"
   ]
  },
  {
   "cell_type": "markdown",
   "metadata": {},
   "source": [
    "# Summary\n",
    "\n",
    "This notebook interprets and analyzes the posterior probabilities of de novo mutation produced by `run_de_novo_probabilities.sh`."
   ]
  },
  {
   "cell_type": "code",
   "execution_count": 2,
   "metadata": {
    "collapsed": false
   },
   "outputs": [
    {
     "data": {
      "text/html": [
       "<div>\n",
       "<style scoped>\n",
       "    .dataframe tbody tr th:only-of-type {\n",
       "        vertical-align: middle;\n",
       "    }\n",
       "\n",
       "    .dataframe tbody tr th {\n",
       "        vertical-align: top;\n",
       "    }\n",
       "\n",
       "    .dataframe thead th {\n",
       "        text-align: right;\n",
       "    }\n",
       "</style>\n",
       "<table border=\"1\" class=\"dataframe\">\n",
       "  <thead>\n",
       "    <tr style=\"text-align: right;\">\n",
       "      <th></th>\n",
       "      <th>index</th>\n",
       "      <th>logprob</th>\n",
       "      <th>family</th>\n",
       "      <th>position</th>\n",
       "      <th>nodename</th>\n",
       "      <th>rep</th>\n",
       "    </tr>\n",
       "  </thead>\n",
       "  <tbody>\n",
       "    <tr>\n",
       "      <th>0</th>\n",
       "      <td>4000000</td>\n",
       "      <td>-572.620340</td>\n",
       "      <td>F196</td>\n",
       "      <td>6791</td>\n",
       "      <td>m1c1_fblo</td>\n",
       "      <td>2953</td>\n",
       "    </tr>\n",
       "    <tr>\n",
       "      <th>1</th>\n",
       "      <td>4000001</td>\n",
       "      <td>-inf</td>\n",
       "      <td>F196</td>\n",
       "      <td>14573</td>\n",
       "      <td>m1c1_fblo</td>\n",
       "      <td>2953</td>\n",
       "    </tr>\n",
       "  </tbody>\n",
       "</table>\n",
       "</div>"
      ],
      "text/plain": [
       "     index     logprob family  position   nodename   rep\n",
       "0  4000000 -572.620340   F196      6791  m1c1_fblo  2953\n",
       "1  4000001        -inf   F196     14573  m1c1_fblo  2953"
      ]
     },
     "execution_count": 2,
     "metadata": {},
     "output_type": "execute_result"
    }
   ],
   "source": [
    "# Load in the data.\n",
    "\n",
    "# results/posterior_mut_probs.tsv.gz is the posterior probabilities\n",
    "# from the MCMC samples provided by the authors.\n",
    "dat = pd.read_csv('results/posterior_mut_probs_subsample.tsv.gz', sep='\\t', comment='#', compression='gzip')\n",
    "dat['position'] = dat['position'].astype(np.int)\n",
    "dat['rep'] = dat['rep'].astype(np.int)\n",
    "dat.head(2)"
   ]
  },
  {
   "cell_type": "code",
   "execution_count": 3,
   "metadata": {
    "collapsed": false
   },
   "outputs": [
    {
     "data": {
      "text/html": [
       "<div>\n",
       "<style scoped>\n",
       "    .dataframe tbody tr th:only-of-type {\n",
       "        vertical-align: middle;\n",
       "    }\n",
       "\n",
       "    .dataframe tbody tr th {\n",
       "        vertical-align: top;\n",
       "    }\n",
       "\n",
       "    .dataframe thead th {\n",
       "        text-align: right;\n",
       "    }\n",
       "</style>\n",
       "<table border=\"1\" class=\"dataframe\">\n",
       "  <thead>\n",
       "    <tr style=\"text-align: right;\">\n",
       "      <th></th>\n",
       "      <th></th>\n",
       "      <th></th>\n",
       "      <th>pprob</th>\n",
       "      <th>tissue</th>\n",
       "    </tr>\n",
       "    <tr>\n",
       "      <th>family</th>\n",
       "      <th>position</th>\n",
       "      <th>nodename</th>\n",
       "      <th></th>\n",
       "      <th></th>\n",
       "    </tr>\n",
       "  </thead>\n",
       "  <tbody>\n",
       "    <tr>\n",
       "      <th rowspan=\"2\" valign=\"top\">F098</th>\n",
       "      <th rowspan=\"2\" valign=\"top\">2377</th>\n",
       "      <th>m1_bl</th>\n",
       "      <td>0.0</td>\n",
       "      <td>bl</td>\n",
       "    </tr>\n",
       "    <tr>\n",
       "      <th>m1_ch</th>\n",
       "      <td>0.0</td>\n",
       "      <td>ch</td>\n",
       "    </tr>\n",
       "  </tbody>\n",
       "</table>\n",
       "</div>"
      ],
      "text/plain": [
       "                          pprob tissue\n",
       "family position nodename              \n",
       "F098   2377     m1_bl       0.0     bl\n",
       "                m1_ch       0.0     ch"
      ]
     },
     "execution_count": 3,
     "metadata": {},
     "output_type": "execute_result"
    }
   ],
   "source": [
    "# Calculate the posterior means across posterior samples.\n",
    "pprobs = dat.groupby(['family', 'position', 'nodename']).apply(lambda x: np.exp(x['logprob']).mean())\n",
    "pprobs_frame = pprobs.to_frame(name='pprob')\n",
    "pprobs_frame['tissue'] = pprobs.index.to_frame()['nodename'].str.split('_', expand=True, n=1).iloc[:,1]\n",
    "pprobs_frame.head(2)"
   ]
  },
  {
   "cell_type": "code",
   "execution_count": 4,
   "metadata": {
    "collapsed": false
   },
   "outputs": [],
   "source": [
    "# For each heteroplasmic variant, calcualte the maximum posterior probability, across tissues.\n",
    "pprobs_max = pprobs.groupby(level=[0,1]).max()\n",
    "pprobs_max_frame = pprobs_frame.groupby(level=[0,1]).apply(lambda x: x.loc[x['pprob'].idxmax(),:])\n",
    "tissues_max, pprobs_max_by_tissue = zip(*list(pprobs_max_frame.groupby('tissue')['pprob']))"
   ]
  },
  {
   "cell_type": "code",
   "execution_count": 5,
   "metadata": {
    "collapsed": false
   },
   "outputs": [],
   "source": [
    "# Preparing various things for the plot.\n",
    "tissues_max_translated = {\n",
    "    'bl':'adult blood',\n",
    "    'ch':'adult cheek',\n",
    "    'fblo':'early blood',\n",
    "    'fbuc':'early cheek',\n",
    "    'loo':'late oogenesis, meiotic arrest',\n",
    "    'som':'pre-gastrulation somatic',\n",
    "    'eoo_post': 'early oogenesis, post-oogonial divergence',\n",
    "    'eoo_pre': 'early oogenesis, pre-oogonial divergence',}\n",
    "labels = [tissues_max_translated[tis] for tis in tissues_max]\n",
    "\n",
    "oplcolors = '''fblo #1f77b4   fixed\n",
    "blo  #1f77b4   rate\n",
    "fbuc #ff7f0e   fixed\n",
    "buc  #ff7f0e   rate\n",
    "som  #2ca02c   fixed\n",
    "loo  #9467bd   rate\n",
    "eoo_post  #d62728   fixed\n",
    "eoo_pre  #ff8080   fixed'''\n",
    "import cStringIO\n",
    "oplcolorsio = cStringIO.StringIO(oplcolors)\n",
    "\n",
    "colordat = pd.read_csv(oplcolorsio, sep='\\s+', header=None, names=['tissue', 'color', 'type'])\n",
    "color_dict = {row.tissue:row.color for row in colordat.itertuples(index=False)}\n",
    "color_dict['bl'] = color_dict['blo']\n",
    "color_dict['ch'] = color_dict['buc']\n",
    "tissues_max_colors = [color_dict[tis] for tis in tissues_max]"
   ]
  },
  {
   "cell_type": "code",
   "execution_count": 6,
   "metadata": {
    "collapsed": false
   },
   "outputs": [
    {
     "data": {
      "image/png": "[encoded data removed]",
      "text/plain": [
       "<matplotlib.figure.Figure at 0x7f0599b5f950>"
      ]
     },
     "metadata": {},
     "output_type": "display_data"
    }
   ],
   "source": [
    "# Making the plot of posterior probabilities in the paper.\n",
    "with mpl.rc_context({'font.size':15}):\n",
    "    f, ax = plt.subplots(figsize=(6,4))\n",
    "    ax.hist(pprobs_max_by_tissue, 50, stacked=True, label=labels, color=tissues_max_colors)\n",
    "    with mpl.rc_context({'font.size':11.5}):\n",
    "        ax.legend();\n",
    "    ax.set_xlabel('maximum de novo posterior probability')\n",
    "    ax.set_ylabel('count')\n",
    "    f.tight_layout()"
   ]
  },
  {
   "cell_type": "code",
   "execution_count": 7,
   "metadata": {
    "collapsed": false
   },
   "outputs": [
    {
     "data": {
      "text/plain": [
       "87"
      ]
     },
     "execution_count": 7,
     "metadata": {},
     "output_type": "execute_result"
    }
   ],
   "source": [
    "# Calculate the number of sites that are de novo according to OPL.\n",
    "# This will vary a little with MCMC sampling noise.\n",
    "is_opl_denovo = pprobs_frame.groupby(level=[0,1])['pprob'].apply(lambda x: np.any(x >= 0.8))\n",
    "is_opl_denovo.sum()"
   ]
  },
  {
   "cell_type": "markdown",
   "metadata": {},
   "source": [
    "See `germline_de_novo_regressions.ipynb` for regressions of number of *de novo* mutations against age."
   ]
  }
 ],
 "metadata": {
  "hide_input": false,
  "kernelspec": {
   "display_name": "Python [anaconda2]",
   "language": "python",
   "name": "Python [anaconda2]"
  },
  "language_info": {
   "codemirror_mode": {
    "name": "ipython",
    "version": 2
   },
   "file_extension": ".py",
   "mimetype": "text/x-python",
   "name": "python",
   "nbconvert_exporter": "python",
   "pygments_lexer": "ipython2",
   "version": "2.7.11"
  }
 },
 "nbformat": 4,
 "nbformat_minor": 0
}
