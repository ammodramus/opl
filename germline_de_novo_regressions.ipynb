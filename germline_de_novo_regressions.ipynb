{
 "cells": [
  {
   "cell_type": "code",
   "execution_count": 1,
   "metadata": {
    "collapsed": false
   },
   "outputs": [
    {
     "name": "stderr",
     "output_type": "stream",
     "text": [
      "/home/peter/opt/anaconda2/lib/python2.7/site-packages/statsmodels/compat/pandas.py:56: FutureWarning: The pandas.core.datetools module is deprecated and will be removed in a future version. Please use the pandas.tseries module instead.\n",
      "  from pandas.core import datetools\n"
     ]
    }
   ],
   "source": [
    "%matplotlib inline\n",
    "from __future__ import division\n",
    "import pandas as pd\n",
    "import numpy as np\n",
    "import matplotlib.pyplot as plt\n",
    "import matplotlib as mpl\n",
    "import numpy.random as npr\n",
    "import re\n",
    "import statsmodels.api as sm"
   ]
  },
  {
   "cell_type": "code",
   "execution_count": 2,
   "metadata": {
    "collapsed": false
   },
   "outputs": [
    {
     "data": {
      "text/html": [
       "<div>\n",
       "<style scoped>\n",
       "    .dataframe tbody tr th:only-of-type {\n",
       "        vertical-align: middle;\n",
       "    }\n",
       "\n",
       "    .dataframe tbody tr th {\n",
       "        vertical-align: top;\n",
       "    }\n",
       "\n",
       "    .dataframe thead th {\n",
       "        text-align: right;\n",
       "    }\n",
       "</style>\n",
       "<table border=\"1\" class=\"dataframe\">\n",
       "  <thead>\n",
       "    <tr style=\"text-align: right;\">\n",
       "      <th></th>\n",
       "      <th>FID</th>\n",
       "      <th>mother_id</th>\n",
       "      <th>individual_id</th>\n",
       "      <th>tissue</th>\n",
       "      <th>position</th>\n",
       "      <th>MAF</th>\n",
       "      <th>heuristic</th>\n",
       "      <th>opl</th>\n",
       "      <th>opl_posterior_prob_de_novo</th>\n",
       "      <th>both</th>\n",
       "    </tr>\n",
       "  </thead>\n",
       "  <tbody>\n",
       "    <tr>\n",
       "      <th>0</th>\n",
       "      <td>F156</td>\n",
       "      <td>F156m1</td>\n",
       "      <td>F156m1c1</td>\n",
       "      <td>bl</td>\n",
       "      <td>13951</td>\n",
       "      <td>0.05747</td>\n",
       "      <td>1</td>\n",
       "      <td>0</td>\n",
       "      <td>0.000043</td>\n",
       "      <td>0</td>\n",
       "    </tr>\n",
       "    <tr>\n",
       "      <th>1</th>\n",
       "      <td>F157</td>\n",
       "      <td>F157m1</td>\n",
       "      <td>F157m1c2</td>\n",
       "      <td>bl</td>\n",
       "      <td>16240</td>\n",
       "      <td>0.06672</td>\n",
       "      <td>1</td>\n",
       "      <td>0</td>\n",
       "      <td>0.344165</td>\n",
       "      <td>0</td>\n",
       "    </tr>\n",
       "  </tbody>\n",
       "</table>\n",
       "</div>"
      ],
      "text/plain": [
       "    FID mother_id individual_id tissue  position      MAF  heuristic  opl  \\\n",
       "0  F156    F156m1      F156m1c1     bl     13951  0.05747          1    0   \n",
       "1  F157    F157m1      F157m1c2     bl     16240  0.06672          1    0   \n",
       "\n",
       "   opl_posterior_prob_de_novo  both  \n",
       "0                    0.000043     0  \n",
       "1                    0.344165     0  "
      ]
     },
     "execution_count": 2,
     "metadata": {},
     "output_type": "execute_result"
    }
   ],
   "source": [
    "# this is Table S4, downloaded as a TSV.\n",
    "denovo = pd.read_csv('table_s4_germline_de_novo.tsv', sep='\\t', skiprows=1)  # first row is title/description\n",
    "denovo['both'] = denovo.eval('heuristic == 1 and opl == 1').astype(int)\n",
    "denovo.head(2)"
   ]
  },
  {
   "cell_type": "code",
   "execution_count": 3,
   "metadata": {
    "collapsed": false
   },
   "outputs": [
    {
     "name": "stdout",
     "output_type": "stream",
     "text": [
      "num tissue samples: 690\n",
      "num individuals: 345\n"
     ]
    },
    {
     "data": {
      "text/html": [
       "<div>\n",
       "<style scoped>\n",
       "    .dataframe tbody tr th:only-of-type {\n",
       "        vertical-align: middle;\n",
       "    }\n",
       "\n",
       "    .dataframe tbody tr th {\n",
       "        vertical-align: top;\n",
       "    }\n",
       "\n",
       "    .dataframe thead th {\n",
       "        text-align: right;\n",
       "    }\n",
       "</style>\n",
       "<table border=\"1\" class=\"dataframe\">\n",
       "  <thead>\n",
       "    <tr style=\"text-align: right;\">\n",
       "      <th></th>\n",
       "      <th>fqid</th>\n",
       "      <th>FID</th>\n",
       "      <th>mother_id</th>\n",
       "      <th>individual_id</th>\n",
       "      <th>level</th>\n",
       "      <th>tissue</th>\n",
       "      <th>tissue_id</th>\n",
       "      <th>Sex</th>\n",
       "      <th>fam_str</th>\n",
       "      <th>fam_cat</th>\n",
       "      <th>mot_cat</th>\n",
       "      <th>age_collection</th>\n",
       "      <th>age_birth</th>\n",
       "    </tr>\n",
       "  </thead>\n",
       "  <tbody>\n",
       "    <tr>\n",
       "      <th>0</th>\n",
       "      <td>TR1329M_S13</td>\n",
       "      <td>F117</td>\n",
       "      <td>F117m1</td>\n",
       "      <td>F117m1c1</td>\n",
       "      <td>c1</td>\n",
       "      <td>bl</td>\n",
       "      <td>F117m1c1_bl</td>\n",
       "      <td>Female</td>\n",
       "      <td>0-0-1-2</td>\n",
       "      <td>m1c2</td>\n",
       "      <td>NaN</td>\n",
       "      <td>6620</td>\n",
       "      <td>21.024658</td>\n",
       "    </tr>\n",
       "    <tr>\n",
       "      <th>1</th>\n",
       "      <td>TR1329M_S6</td>\n",
       "      <td>F117</td>\n",
       "      <td>F117m1</td>\n",
       "      <td>F117m1c1</td>\n",
       "      <td>c1</td>\n",
       "      <td>ch</td>\n",
       "      <td>F117m1c1_ch</td>\n",
       "      <td>Female</td>\n",
       "      <td>0-0-1-2</td>\n",
       "      <td>m1c2</td>\n",
       "      <td>NaN</td>\n",
       "      <td>6620</td>\n",
       "      <td>21.024658</td>\n",
       "    </tr>\n",
       "  </tbody>\n",
       "</table>\n",
       "</div>"
      ],
      "text/plain": [
       "          fqid   FID mother_id individual_id level tissue    tissue_id  \\\n",
       "0  TR1329M_S13  F117    F117m1      F117m1c1    c1     bl  F117m1c1_bl   \n",
       "1   TR1329M_S6  F117    F117m1      F117m1c1    c1     ch  F117m1c1_ch   \n",
       "\n",
       "      Sex  fam_str fam_cat mot_cat  age_collection  age_birth  \n",
       "0  Female  0-0-1-2    m1c2     NaN            6620  21.024658  \n",
       "1  Female  0-0-1-2    m1c2     NaN            6620  21.024658  "
      ]
     },
     "execution_count": 3,
     "metadata": {},
     "output_type": "execute_result"
    }
   ],
   "source": [
    "# Load in information on all 345 individuals\n",
    "fam = pd.read_csv('famfile.tsv', sep='\\t')\n",
    "# Convert mother's age at birth from days to years.\n",
    "fam['age_birth'] /= 365.0\n",
    "print 'num tissue samples:', fam.shape[0]\n",
    "print 'num individuals:', int(fam.shape[0]/2)\n",
    "fam.head(2)"
   ]
  },
  {
   "cell_type": "code",
   "execution_count": 4,
   "metadata": {
    "collapsed": false
   },
   "outputs": [],
   "source": [
    "# Drop duplicates across tissues since we just want the age of every indivdual.\n",
    "fam.drop_duplicates(['individual_id'], inplace=True)\n",
    "assert fam.shape[0] == 345"
   ]
  },
  {
   "cell_type": "code",
   "execution_count": 13,
   "metadata": {
    "collapsed": false
   },
   "outputs": [
    {
     "name": "stdout",
     "output_type": "stream",
     "text": [
      "number of individuals whose mothers were sequenced (345 individuals - 96 heads of family): 249\n"
     ]
    }
   ],
   "source": [
    "# Discard individuals at the top of their pedigree. fam_cat[0] == level[0]\n",
    "filt = fam.apply(lambda x: x['level'][0] != x['fam_cat'][0], axis=1)\n",
    "print 'number of individuals whose mothers were sequenced (345 individuals - 96 heads of family):', filt.sum()\n",
    "fam_have_mother = fam.loc[filt,:]\n",
    "# Make sure we have mother's age at birth for all these individuals.\n",
    "assert fam_have_mother['age_birth'].isnull().sum() == 0"
   ]
  },
  {
   "cell_type": "code",
   "execution_count": 6,
   "metadata": {
    "collapsed": false
   },
   "outputs": [
    {
     "data": {
      "text/html": [
       "<div>\n",
       "<style scoped>\n",
       "    .dataframe tbody tr th:only-of-type {\n",
       "        vertical-align: middle;\n",
       "    }\n",
       "\n",
       "    .dataframe tbody tr th {\n",
       "        vertical-align: top;\n",
       "    }\n",
       "\n",
       "    .dataframe thead th {\n",
       "        text-align: right;\n",
       "    }\n",
       "</style>\n",
       "<table border=\"1\" class=\"dataframe\">\n",
       "  <thead>\n",
       "    <tr style=\"text-align: right;\">\n",
       "      <th></th>\n",
       "      <th>age_birth</th>\n",
       "      <th>heur</th>\n",
       "      <th>opl</th>\n",
       "      <th>intersection</th>\n",
       "    </tr>\n",
       "    <tr>\n",
       "      <th>individual_id</th>\n",
       "      <th></th>\n",
       "      <th></th>\n",
       "      <th></th>\n",
       "      <th></th>\n",
       "    </tr>\n",
       "  </thead>\n",
       "  <tbody>\n",
       "    <tr>\n",
       "      <th>F117m1c1</th>\n",
       "      <td>21.024658</td>\n",
       "      <td>0</td>\n",
       "      <td>0</td>\n",
       "      <td>0</td>\n",
       "    </tr>\n",
       "    <tr>\n",
       "      <th>F294m1c1</th>\n",
       "      <td>36.673973</td>\n",
       "      <td>0</td>\n",
       "      <td>2</td>\n",
       "      <td>0</td>\n",
       "    </tr>\n",
       "  </tbody>\n",
       "</table>\n",
       "</div>"
      ],
      "text/plain": [
       "               age_birth  heur  opl  intersection\n",
       "individual_id                                    \n",
       "F117m1c1       21.024658     0    0             0\n",
       "F294m1c1       36.673973     0    2             0"
      ]
     },
     "execution_count": 6,
     "metadata": {},
     "output_type": "execute_result"
    }
   ],
   "source": [
    "# Make the regression data.\n",
    "regdat = fam_have_mother[['individual_id', 'age_birth']].set_index('individual_id')\n",
    "heur_counts = denovo.groupby('individual_id')['heuristic'].sum()\n",
    "opl_counts = denovo.groupby('individual_id')['opl'].sum()\n",
    "intersection_counts = denovo.groupby('individual_id')['both'].sum()\n",
    "regdat['heur'] = 0\n",
    "regdat['heur'] = regdat['heur'].add(heur_counts, fill_value=0).astype(int)\n",
    "regdat['opl'] = 0\n",
    "regdat['opl'] = regdat['opl'].add(opl_counts, fill_value=0).astype(int)\n",
    "regdat['intersection'] = 0\n",
    "regdat['intersection'] = regdat['intersection'].add(intersection_counts, fill_value=0).astype(int)\n",
    "regdat.head(2)"
   ]
  },
  {
   "cell_type": "code",
   "execution_count": 16,
   "metadata": {
    "collapsed": false
   },
   "outputs": [
    {
     "data": {
      "text/html": [
       "<table class=\"simpletable\">\n",
       "<caption>Generalized Linear Model Regression Results</caption>\n",
       "<tr>\n",
       "  <th>Dep. Variable:</th>         <td>opl</td>       <th>  No. Observations:  </th>  <td>   249</td> \n",
       "</tr>\n",
       "<tr>\n",
       "  <th>Model:</th>                 <td>GLM</td>       <th>  Df Residuals:      </th>  <td>   247</td> \n",
       "</tr>\n",
       "<tr>\n",
       "  <th>Model Family:</th>        <td>Poisson</td>     <th>  Df Model:          </th>  <td>     1</td> \n",
       "</tr>\n",
       "<tr>\n",
       "  <th>Link Function:</th>         <td>log</td>       <th>  Scale:             </th>    <td>1.0</td>  \n",
       "</tr>\n",
       "<tr>\n",
       "  <th>Method:</th>               <td>IRLS</td>       <th>  Log-Likelihood:    </th> <td> -324.11</td>\n",
       "</tr>\n",
       "<tr>\n",
       "  <th>Date:</th>           <td>Thu, 11 Apr 2019</td> <th>  Deviance:          </th> <td>  463.59</td>\n",
       "</tr>\n",
       "<tr>\n",
       "  <th>Time:</th>               <td>11:11:13</td>     <th>  Pearson chi2:      </th>  <td>  548.</td> \n",
       "</tr>\n",
       "<tr>\n",
       "  <th>No. Iterations:</th>         <td>5</td>        <th>                     </th>     <td> </td>   \n",
       "</tr>\n",
       "</table>\n",
       "<table class=\"simpletable\">\n",
       "<tr>\n",
       "      <td></td>         <th>coef</th>     <th>std err</th>      <th>z</th>      <th>P>|z|</th>  <th>[0.025</th>    <th>0.975]</th>  \n",
       "</tr>\n",
       "<tr>\n",
       "  <th>const</th>     <td>   -1.6327</td> <td>    0.426</td> <td>   -3.836</td> <td> 0.000</td> <td>   -2.467</td> <td>   -0.798</td>\n",
       "</tr>\n",
       "<tr>\n",
       "  <th>age_birth</th> <td>    0.0419</td> <td>    0.014</td> <td>    3.053</td> <td> 0.002</td> <td>    0.015</td> <td>    0.069</td>\n",
       "</tr>\n",
       "</table>"
      ],
      "text/plain": [
       "<class 'statsmodels.iolib.summary.Summary'>\n",
       "\"\"\"\n",
       "                 Generalized Linear Model Regression Results                  \n",
       "==============================================================================\n",
       "Dep. Variable:                    opl   No. Observations:                  249\n",
       "Model:                            GLM   Df Residuals:                      247\n",
       "Model Family:                 Poisson   Df Model:                            1\n",
       "Link Function:                    log   Scale:                             1.0\n",
       "Method:                          IRLS   Log-Likelihood:                -324.11\n",
       "Date:                Thu, 11 Apr 2019   Deviance:                       463.59\n",
       "Time:                        11:11:13   Pearson chi2:                     548.\n",
       "No. Iterations:                     5                                         \n",
       "==============================================================================\n",
       "                 coef    std err          z      P>|z|      [0.025      0.975]\n",
       "------------------------------------------------------------------------------\n",
       "const         -1.6327      0.426     -3.836      0.000      -2.467      -0.798\n",
       "age_birth      0.0419      0.014      3.053      0.002       0.015       0.069\n",
       "==============================================================================\n",
       "\"\"\""
      ]
     },
     "execution_count": 16,
     "metadata": {},
     "output_type": "execute_result"
    }
   ],
   "source": [
    "# Perform the Poisson regression for the OPL mutations.\n",
    "sm.GLM(regdat['opl'], sm.add_constant(regdat['age_birth']),\n",
    "       family=sm.families.Poisson(),\n",
    "       link=sm.families.links.Log()).fit().summary()"
   ]
  },
  {
   "cell_type": "code",
   "execution_count": 15,
   "metadata": {
    "collapsed": false
   },
   "outputs": [
    {
     "data": {
      "text/html": [
       "<table class=\"simpletable\">\n",
       "<caption>Generalized Linear Model Regression Results</caption>\n",
       "<tr>\n",
       "  <th>Dep. Variable:</th>        <td>heur</td>       <th>  No. Observations:  </th>  <td>   249</td> \n",
       "</tr>\n",
       "<tr>\n",
       "  <th>Model:</th>                 <td>GLM</td>       <th>  Df Residuals:      </th>  <td>   247</td> \n",
       "</tr>\n",
       "<tr>\n",
       "  <th>Model Family:</th>        <td>Poisson</td>     <th>  Df Model:          </th>  <td>     1</td> \n",
       "</tr>\n",
       "<tr>\n",
       "  <th>Link Function:</th>         <td>log</td>       <th>  Scale:             </th>    <td>1.0</td>  \n",
       "</tr>\n",
       "<tr>\n",
       "  <th>Method:</th>               <td>IRLS</td>       <th>  Log-Likelihood:    </th> <td> -312.59</td>\n",
       "</tr>\n",
       "<tr>\n",
       "  <th>Date:</th>           <td>Thu, 11 Apr 2019</td> <th>  Deviance:          </th> <td>  453.47</td>\n",
       "</tr>\n",
       "<tr>\n",
       "  <th>Time:</th>               <td>11:11:04</td>     <th>  Pearson chi2:      </th>  <td>  581.</td> \n",
       "</tr>\n",
       "<tr>\n",
       "  <th>No. Iterations:</th>         <td>5</td>        <th>                     </th>     <td> </td>   \n",
       "</tr>\n",
       "</table>\n",
       "<table class=\"simpletable\">\n",
       "<tr>\n",
       "      <td></td>         <th>coef</th>     <th>std err</th>      <th>z</th>      <th>P>|z|</th>  <th>[0.025</th>    <th>0.975]</th>  \n",
       "</tr>\n",
       "<tr>\n",
       "  <th>const</th>     <td>   -1.2845</td> <td>    0.439</td> <td>   -2.928</td> <td> 0.003</td> <td>   -2.144</td> <td>   -0.425</td>\n",
       "</tr>\n",
       "<tr>\n",
       "  <th>age_birth</th> <td>    0.0276</td> <td>    0.014</td> <td>    1.921</td> <td> 0.055</td> <td>   -0.001</td> <td>    0.056</td>\n",
       "</tr>\n",
       "</table>"
      ],
      "text/plain": [
       "<class 'statsmodels.iolib.summary.Summary'>\n",
       "\"\"\"\n",
       "                 Generalized Linear Model Regression Results                  \n",
       "==============================================================================\n",
       "Dep. Variable:                   heur   No. Observations:                  249\n",
       "Model:                            GLM   Df Residuals:                      247\n",
       "Model Family:                 Poisson   Df Model:                            1\n",
       "Link Function:                    log   Scale:                             1.0\n",
       "Method:                          IRLS   Log-Likelihood:                -312.59\n",
       "Date:                Thu, 11 Apr 2019   Deviance:                       453.47\n",
       "Time:                        11:11:04   Pearson chi2:                     581.\n",
       "No. Iterations:                     5                                         \n",
       "==============================================================================\n",
       "                 coef    std err          z      P>|z|      [0.025      0.975]\n",
       "------------------------------------------------------------------------------\n",
       "const         -1.2845      0.439     -2.928      0.003      -2.144      -0.425\n",
       "age_birth      0.0276      0.014      1.921      0.055      -0.001       0.056\n",
       "==============================================================================\n",
       "\"\"\""
      ]
     },
     "execution_count": 15,
     "metadata": {},
     "output_type": "execute_result"
    }
   ],
   "source": [
    "# Perform the Poisson regression for the heuristic mutations.\n",
    "sm.GLM(regdat['heur'], sm.add_constant(regdat['age_birth']),\n",
    "       family=sm.families.Poisson(),\n",
    "       link=sm.families.links.Log()).fit().summary()"
   ]
  },
  {
   "cell_type": "code",
   "execution_count": 14,
   "metadata": {
    "collapsed": false
   },
   "outputs": [
    {
     "data": {
      "text/html": [
       "<table class=\"simpletable\">\n",
       "<caption>Generalized Linear Model Regression Results</caption>\n",
       "<tr>\n",
       "  <th>Dep. Variable:</th>    <td>intersection</td>   <th>  No. Observations:  </th>  <td>   249</td> \n",
       "</tr>\n",
       "<tr>\n",
       "  <th>Model:</th>                 <td>GLM</td>       <th>  Df Residuals:      </th>  <td>   247</td> \n",
       "</tr>\n",
       "<tr>\n",
       "  <th>Model Family:</th>        <td>Poisson</td>     <th>  Df Model:          </th>  <td>     1</td> \n",
       "</tr>\n",
       "<tr>\n",
       "  <th>Link Function:</th>         <td>log</td>       <th>  Scale:             </th>    <td>1.0</td>  \n",
       "</tr>\n",
       "<tr>\n",
       "  <th>Method:</th>               <td>IRLS</td>       <th>  Log-Likelihood:    </th> <td> -238.35</td>\n",
       "</tr>\n",
       "<tr>\n",
       "  <th>Date:</th>           <td>Thu, 11 Apr 2019</td> <th>  Deviance:          </th> <td>  363.66</td>\n",
       "</tr>\n",
       "<tr>\n",
       "  <th>Time:</th>               <td>11:10:49</td>     <th>  Pearson chi2:      </th>  <td>  571.</td> \n",
       "</tr>\n",
       "<tr>\n",
       "  <th>No. Iterations:</th>         <td>6</td>        <th>                     </th>     <td> </td>   \n",
       "</tr>\n",
       "</table>\n",
       "<table class=\"simpletable\">\n",
       "<tr>\n",
       "      <td></td>         <th>coef</th>     <th>std err</th>      <th>z</th>      <th>P>|z|</th>  <th>[0.025</th>    <th>0.975]</th>  \n",
       "</tr>\n",
       "<tr>\n",
       "  <th>const</th>     <td>   -2.3654</td> <td>    0.558</td> <td>   -4.236</td> <td> 0.000</td> <td>   -3.460</td> <td>   -1.271</td>\n",
       "</tr>\n",
       "<tr>\n",
       "  <th>age_birth</th> <td>    0.0485</td> <td>    0.018</td> <td>    2.712</td> <td> 0.007</td> <td>    0.013</td> <td>    0.084</td>\n",
       "</tr>\n",
       "</table>"
      ],
      "text/plain": [
       "<class 'statsmodels.iolib.summary.Summary'>\n",
       "\"\"\"\n",
       "                 Generalized Linear Model Regression Results                  \n",
       "==============================================================================\n",
       "Dep. Variable:           intersection   No. Observations:                  249\n",
       "Model:                            GLM   Df Residuals:                      247\n",
       "Model Family:                 Poisson   Df Model:                            1\n",
       "Link Function:                    log   Scale:                             1.0\n",
       "Method:                          IRLS   Log-Likelihood:                -238.35\n",
       "Date:                Thu, 11 Apr 2019   Deviance:                       363.66\n",
       "Time:                        11:10:49   Pearson chi2:                     571.\n",
       "No. Iterations:                     6                                         \n",
       "==============================================================================\n",
       "                 coef    std err          z      P>|z|      [0.025      0.975]\n",
       "------------------------------------------------------------------------------\n",
       "const         -2.3654      0.558     -4.236      0.000      -3.460      -1.271\n",
       "age_birth      0.0485      0.018      2.712      0.007       0.013       0.084\n",
       "==============================================================================\n",
       "\"\"\""
      ]
     },
     "execution_count": 14,
     "metadata": {},
     "output_type": "execute_result"
    }
   ],
   "source": [
    "# Perform the Poisson regression for the heuristic mutations.\n",
    "sm.GLM(regdat['intersection'], sm.add_constant(regdat['age_birth']),\n",
    "       family=sm.families.Poisson(),\n",
    "       link=sm.families.links.Log()).fit().summary()"
   ]
  }
 ],
 "metadata": {
  "hide_input": false,
  "kernelspec": {
   "display_name": "Python [anaconda2]",
   "language": "python",
   "name": "Python [anaconda2]"
  },
  "language_info": {
   "codemirror_mode": {
    "name": "ipython",
    "version": 2
   },
   "file_extension": ".py",
   "mimetype": "text/x-python",
   "name": "python",
   "nbconvert_exporter": "python",
   "pygments_lexer": "ipython2",
   "version": "2.7.11"
  }
 },
 "nbformat": 4,
 "nbformat_minor": 0
}
