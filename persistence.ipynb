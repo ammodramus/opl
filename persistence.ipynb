{
 "cells": [
  {
   "cell_type": "code",
   "execution_count": 1,
   "metadata": {
    "collapsed": false
   },
   "outputs": [
    {
     "name": "stderr",
     "output_type": "stream",
     "text": [
      "/home/peter/opt/anaconda2/lib/python2.7/site-packages/matplotlib/__init__.py:1401: UserWarning:  This call to matplotlib.use() has no effect\n",
      "because the backend has already been chosen;\n",
      "matplotlib.use() must be called *before* pylab, matplotlib.pyplot,\n",
      "or matplotlib.backends is imported for the first time.\n",
      "\n",
      "  warnings.warn(_use_error_msg)\n"
     ]
    }
   ],
   "source": [
    "%matplotlib inline\n",
    "from __future__ import division\n",
    "import numpy as np\n",
    "import numpy.random as npr\n",
    "import scipy.optimize as opt\n",
    "import sys\n",
    "import pandas as pd\n",
    "import matplotlib as mpl\n",
    "import matplotlib.pyplot as plt\n",
    "import re\n",
    "import sys\n",
    "import glob\n",
    "\n",
    "import scipy.stats as st\n",
    "from scipy.special import logsumexp\n",
    "import numpy.linalg as npl\n",
    "\n",
    "import mope\n",
    "import mope.likelihoods as lis\n",
    "from mope import transition_data_mut"
   ]
  },
  {
   "cell_type": "markdown",
   "metadata": {},
   "source": [
    "# for how many generations do heteroplasmies segregate?"
   ]
  },
  {
   "cell_type": "markdown",
   "metadata": {},
   "source": [
    "The processes between germlines are\n",
    "\n",
    "  - early oogenesis, pre-divergence\n",
    "  - early oogenesis, post-divergence\n",
    "  - late oogenesis\n",
    "\n",
    "These are followed by somatic processes if you want to include those as well in the terminal generation. For now, just focus on the germlines, how many bottlenecks the frequencies will segregate through.\n",
    "\n",
    " - draw eoo_pre_l0, eoo_post_l0, loo_l0, and alphabeta from posterior sample. Assume average childbirth age (29.2).\n",
    " - get transition matrices (with mutation rate = 0), multiply to get beginning-to-end transition matrix\n",
    " - assess matrices for probability of lasting from each frequency some number of generations.\n",
    " - average these probabilities over P(f) (calculated using alphabeta)."
   ]
  },
  {
   "cell_type": "code",
   "execution_count": 2,
   "metadata": {
    "collapsed": false
   },
   "outputs": [],
   "source": [
    "trans = transition_data_mut.TransitionData('transitions/drift_transitions.h5', memory=True)"
   ]
  },
  {
   "cell_type": "code",
   "execution_count": 3,
   "metadata": {
    "collapsed": true
   },
   "outputs": [],
   "source": [
    "post_samples = pd.read_csv('results/downsampled_chains.txt.gz', sep='\\t', compression='gzip')"
   ]
  },
  {
   "cell_type": "code",
   "execution_count": 4,
   "metadata": {
    "collapsed": true
   },
   "outputs": [],
   "source": [
    "def get_freq_distribution(log10ab, log10polyprob):\n",
    "    return lis.get_stationary_distribution_double_beta(\n",
    "        trans.get_bin_frequencies(),\n",
    "        trans.get_breaks(),\n",
    "        trans.get_N(),\n",
    "        10**log10ab,\n",
    "        10**log10polyprob)"
   ]
  },
  {
   "cell_type": "code",
   "execution_count": 5,
   "metadata": {
    "collapsed": true
   },
   "outputs": [],
   "source": [
    "def get_wright_fisher_transition_matrix(N, s, u, v):\n",
    "    assert 3/2 == 1.5  # check for __future__ division\n",
    "    P = np.matrix(np.zeros((N+1, N+1), dtype = np.float64))\n",
    "    js = np.arange(0,N+1)\n",
    "    for i in range(N+1):\n",
    "        p = i/N\n",
    "        pmut = (1-u)*p + v*(1-p) # first mutation, then selection\n",
    "        pstar = pmut*(1+s) / (pmut*(1+s) + 1-pmut)\n",
    "        P[i,:] = np.exp(st.binom.logpmf(js, N, pstar))\n",
    "    return P"
   ]
  },
  {
   "cell_type": "code",
   "execution_count": 6,
   "metadata": {
    "collapsed": false
   },
   "outputs": [],
   "source": [
    "P_wf = get_wright_fisher_transition_matrix(2000, 0, 0, 0)"
   ]
  },
  {
   "cell_type": "code",
   "execution_count": 7,
   "metadata": {
    "collapsed": true
   },
   "outputs": [],
   "source": [
    "def get_wf_transition_matrix(total_drift):\n",
    "    global P_wf\n",
    "    num_generations = int(total_drift*1000+0.5)\n",
    "    P = npl.matrix_power(P_wf, num_generations)\n",
    "    return mope.make_transition_matrices.bin_matrix(P, trans.get_breaks())"
   ]
  },
  {
   "cell_type": "code",
   "execution_count": 8,
   "metadata": {
    "collapsed": false
   },
   "outputs": [],
   "source": [
    "identity_matrix = np.diag(np.ones_like(trans.get_bin_frequencies()))\n",
    "\n",
    "def get_germline_transition_matrix(eoo_pre, eoo_post, loo):\n",
    "    eoo_pre = eoo_pre\n",
    "    eoo_post = eoo_post\n",
    "    loo = loo * 29.2\n",
    "    \n",
    "    if eoo_pre == 0.0:\n",
    "        eoo_pre_P = identity_matrix\n",
    "    else:\n",
    "        eoo_pre_P = trans.get_transition_probabilities_time_mutation(eoo_pre, 1.1e-8)\n",
    "    eoo_pre_P[0,:] = 0.0\n",
    "    eoo_pre_P[0,0] = 1.0\n",
    "    eoo_pre_P[-1,:] = 0.0\n",
    "    eoo_pre_P[-1,-1] = 1.0\n",
    "    \n",
    "    if eoo_post == 0.0:\n",
    "        eoo_post_P = identity_matrix\n",
    "    else:\n",
    "        eoo_post_P = trans.get_transition_probabilities_time_mutation(eoo_post, 1.1e-8)\n",
    "    eoo_post_P[0,:] = 0.0\n",
    "    eoo_post_P[0,0] = 1.0\n",
    "    eoo_post_P[-1,:] = 0.0\n",
    "    eoo_post_P[-1,-1] = 1.0\n",
    "        \n",
    "    if loo == 0.0:\n",
    "        loo_P = identity_matrix\n",
    "    else:\n",
    "        loo_P = trans.get_transition_probabilities_time_mutation(loo, 1.1e-8)\n",
    "    loo_P[0,:] = 0.0\n",
    "    loo_P[0,0] = 1.0\n",
    "    loo_P[-1,:] = 0.0\n",
    "    loo_P[-1,-1] = 1.0\n",
    "    \n",
    "    return np.matmul(eoo_pre_P, np.matmul(eoo_post_P, loo_P))"
   ]
  },
  {
   "cell_type": "code",
   "execution_count": 9,
   "metadata": {
    "collapsed": false
   },
   "outputs": [
    {
     "name": "stdout",
     "output_type": "stream",
     "text": [
      "sample 499\n"
     ]
    }
   ],
   "source": [
    "n_samples = 500\n",
    "pnotfixeds = []\n",
    "pnotfixeds_freqavg = []\n",
    "freq_distns = []\n",
    "for j, (_, sample) in enumerate(\n",
    "    post_samples[['eoo_pre_l', 'eoo_post_l', 'loo_l', 'log10ab', 'log10polyprob']].sample(n_samples).iterrows()):\n",
    "    sample_not_fixeds = []\n",
    "    sample_pnot_freqavg = []\n",
    "    P = get_germline_transition_matrix(*sample[:3])\n",
    "    freq_distn = get_freq_distribution(*sample[-2:])\n",
    "    freq_distn_1pct = freq_distn.copy()\n",
    "    freq_distn_1pct \n",
    "    freq_distn[0] = 0\n",
    "    freq_distn[-1] = 0\n",
    "    freq_distn /= freq_distn.sum()\n",
    "    freq_distns.append(freq_distn)\n",
    "    for i in range(1, 101):\n",
    "        Pp = npl.matrix_power(P, i)\n",
    "        pnotfixed = 1.0 - Pp[:,0] - Pp[:,-1]\n",
    "        sample_not_fixeds.append(pnotfixed)\n",
    "        sample_pnot_freqavg.append(np.dot(pnotfixed, freq_distn))\n",
    "    pnotfixeds.append(sample_not_fixeds)\n",
    "    pnotfixeds_freqavg.append(sample_pnot_freqavg)\n",
    "    print '\\rsample {}'.format(j),\n",
    "pnotfixeds = np.array(pnotfixeds)\n",
    "pnotfixeds_freqavg = np.array(pnotfixeds_freqavg)"
   ]
  },
  {
   "cell_type": "code",
   "execution_count": 10,
   "metadata": {
    "collapsed": true
   },
   "outputs": [],
   "source": [
    "# The probabilities of surviving X generations are\n",
    "# estimated by marginalizing across the posterior samples.\n",
    "pnotfixeds_avg = pnotfixeds.mean(0)\n",
    "survive_lineage = pnotfixeds_avg"
   ]
  },
  {
   "cell_type": "code",
   "execution_count": 11,
   "metadata": {
    "collapsed": false
   },
   "outputs": [],
   "source": [
    "freqs = trans.get_bin_frequencies()  # the discretized frequencies"
   ]
  },
  {
   "cell_type": "code",
   "execution_count": 13,
   "metadata": {
    "collapsed": false
   },
   "outputs": [
    {
     "name": "stdout",
     "output_type": "stream",
     "text": [
      "fraction of 2% heteroplasmies not surviving more than two generations: 0.9220857591796765\n",
      "number of generations before survival probability dips below 10% for 15% initial freq: 11\n",
      "number of generations before survival probability dips below 10% for 50% initial freq: 15\n",
      "number of generations before survival probability dips below 1% for 50% initial freq: 28\n"
     ]
    }
   ],
   "source": [
    "nfdat = pd.DataFrame.from_dict({'gens':np.arange(1,101),\n",
    "                        'nf50':pnotfixeds_avg[:,idx50],\n",
    "                        'nf15':pnotfixeds_avg[:,idx15],\n",
    "                        'nf2':pnotfixeds_avg[:,idx2],\n",
    "                        })\n",
    "nfdat.set_index('gens', inplace=True)\n",
    "print 'fraction of 2% heteroplasmies not surviving more than two generations:', 1.0-nfdat['nf2'][3]\n",
    "print 'number of generations before survival probability dips below 10% for 15% initial freq:', nfdat.index[nfdat['nf15'] > 0.1][-1]\n",
    "print 'number of generations before survival probability dips below 10% for 50% initial freq:', nfdat.index[nfdat['nf50'] > 0.1][-1]\n",
    "print 'number of generations before survival probability dips below 1% for 50% initial freq:', nfdat.index[nfdat['nf50'] > 0.01][-1]"
   ]
  },
  {
   "cell_type": "markdown",
   "metadata": {},
   "source": [
    "Get distributions of the number of generations until fixation, X.\n",
    "\n",
    "$$\n",
    "P(X = g \\mid x_0 = f) = \\sum_{i \\notin \\{0,1\\}} P(x_g = i \\mid x_0 = f) - \\sum_{j \\notin \\{0,1\\}} P(x_{g+1} = j \\mid x_0 = f)\n",
    "$$"
   ]
  },
  {
   "cell_type": "markdown",
   "metadata": {},
   "source": [
    "Since the number of generations before fixation occurs is a non-negative random variable, the mean is equal to $\\sum_{i=0}^\\infty P(X>i)$. (See [here](https://math.stackexchange.com/questions/64186/intuition-behind-using-complementary-cdf-to-compute-expectation-for-nonnegative), e.g.)"
   ]
  },
  {
   "cell_type": "code",
   "execution_count": 14,
   "metadata": {
    "collapsed": false
   },
   "outputs": [],
   "source": [
    "avg_num_gens = pnotfixeds_avg.sum(0)\n",
    "survive = pnotfixeds_avg"
   ]
  },
  {
   "cell_type": "markdown",
   "metadata": {},
   "source": [
    "# persistence calculations in a Birth-death process with Poisson(1) offspring counts."
   ]
  },
  {
   "cell_type": "markdown",
   "metadata": {},
   "source": [
    "### simulating persistence given Poisson offspring distributions"
   ]
  },
  {
   "cell_type": "code",
   "execution_count": 15,
   "metadata": {
    "collapsed": false
   },
   "outputs": [],
   "source": [
    "trans = transition_data_mut.TransitionData('transitions/drift_transitions.h5', memory=True)\n",
    "freqs = trans.get_bin_frequencies()"
   ]
  },
  {
   "cell_type": "code",
   "execution_count": 16,
   "metadata": {
    "collapsed": false
   },
   "outputs": [],
   "source": [
    "identity_matrix = np.diag(np.ones_like(trans.get_bin_frequencies()))\n",
    "\n",
    "def get_germline_transition_matrix(eoo_pre, eoo_post, loo):\n",
    "    eoo_pre = eoo_pre\n",
    "    eoo_post = eoo_post\n",
    "    loo = loo * 29.2\n",
    "    \n",
    "    if eoo_pre == 0.0:\n",
    "        eoo_pre_P = identity_matrix\n",
    "    else:\n",
    "        eoo_pre_P = trans.get_transition_probabilities_time_mutation(eoo_pre, 1.1e-8)\n",
    "    eoo_pre_P[0,:] = 0.0\n",
    "    eoo_pre_P[0,0] = 1.0\n",
    "    eoo_pre_P[-1,:] = 0.0\n",
    "    eoo_pre_P[-1,-1] = 1.0\n",
    "    \n",
    "    if eoo_post == 0.0:\n",
    "        eoo_post_P = identity_matrix\n",
    "    else:\n",
    "        eoo_post_P = trans.get_transition_probabilities_time_mutation(eoo_post, 1.1e-8)\n",
    "    eoo_post_P[0,:] = 0.0\n",
    "    eoo_post_P[0,0] = 1.0\n",
    "    eoo_post_P[-1,:] = 0.0\n",
    "    eoo_post_P[-1,-1] = 1.0\n",
    "        \n",
    "    if loo == 0.0:\n",
    "        loo_P = identity_matrix\n",
    "    else:\n",
    "        loo_P = trans.get_transition_probabilities_time_mutation(loo, 1.1e-8)\n",
    "    loo_P[0,:] = 0.0\n",
    "    loo_P[0,0] = 1.0\n",
    "    loo_P[-1,:] = 0.0\n",
    "    loo_P[-1,-1] = 1.0\n",
    "    \n",
    "    return np.matmul(eoo_pre_P, np.matmul(eoo_post_P, loo_P))"
   ]
  },
  {
   "cell_type": "code",
   "execution_count": 17,
   "metadata": {
    "collapsed": true
   },
   "outputs": [],
   "source": [
    "post_samples = pd.read_csv('results/downsampled_chains.txt.gz', sep='\\t', compression='gzip')"
   ]
  },
  {
   "cell_type": "code",
   "execution_count": 18,
   "metadata": {
    "collapsed": false
   },
   "outputs": [
    {
     "name": "stdout",
     "output_type": "stream",
     "text": [
      " sample 9999\n"
     ]
    }
   ],
   "source": [
    "Ps = []\n",
    "freq_distns = []\n",
    "n_samples = 10000\n",
    "for j, (_, sample) in enumerate(\n",
    "    post_samples[['eoo_pre_l', 'eoo_post_l', 'loo_l']].sample(n_samples).iterrows()):\n",
    "    P = get_germline_transition_matrix(*sample)\n",
    "    Ps.append(P)\n",
    "    print '\\r sample {}'.format(j),\n",
    "Ps = np.array(Ps)\n",
    "mean_P = Ps.mean(axis=0)"
   ]
  },
  {
   "cell_type": "code",
   "execution_count": 19,
   "metadata": {
    "collapsed": false
   },
   "outputs": [
    {
     "data": {
      "text/plain": [
       "(101, 121, 121)"
      ]
     },
     "execution_count": 19,
     "metadata": {},
     "output_type": "execute_result"
    }
   ],
   "source": [
    "# gen_means[i,j,k] gives the (Poisson) mean number of offspring\n",
    "# in frequency category k given that you started with one\n",
    "# member of frequency category j, i generations ago.\n",
    "freq_means = np.identity(mean_P.shape[0])\n",
    "gen_means = [freq_means]\n",
    "for i in range(100):\n",
    "    freq_means = np.dot(freq_means, mean_P)\n",
    "    gen_means.append(freq_means)\n",
    "gen_means = np.array(gen_means)\n",
    "gen_means.shape"
   ]
  },
  {
   "cell_type": "markdown",
   "metadata": {},
   "source": [
    "In this model, the probability of survival after $i$ generations given that you started in frequency category $j$ is\n",
    "\n",
    "$$1 - \\exp\\left[\\sum_{k \\in F} \\lambda(i,j,k)\\right]$$,\n",
    "\n",
    "where $\\lambda(i,j,k) = \\textrm{gen_means[i,j,k]}$."
   ]
  },
  {
   "cell_type": "code",
   "execution_count": 20,
   "metadata": {
    "collapsed": true
   },
   "outputs": [],
   "source": [
    "freq_filt = (freqs > 0.01)&(freqs < 0.99)\n",
    "survive_pois = 1.0-np.exp((-gen_means[:,:,freq_filt]).sum(-1))\n",
    "survive_pois[0,1:] = 1.0  # there is gauranteed survival in the first generation"
   ]
  },
  {
   "cell_type": "code",
   "execution_count": 21,
   "metadata": {
    "collapsed": true
   },
   "outputs": [],
   "source": [
    "# (from the above calculations, for a single unbroken maternal lineage)\n",
    "survive = gen_means[:,:,freq_filt].sum(-1)"
   ]
  },
  {
   "cell_type": "code",
   "execution_count": 22,
   "metadata": {
    "collapsed": false
   },
   "outputs": [],
   "source": [
    "# survive_pois[i, j] gives the probability of seeing a heteroplasmy at MAF >= 1% after i generations\n",
    "# given that you start at frequency indexed j.\n",
    "\n",
    "# same for survive"
   ]
  },
  {
   "cell_type": "code",
   "execution_count": 23,
   "metadata": {
    "collapsed": false
   },
   "outputs": [],
   "source": [
    "avg_num_gens_pois = survive_pois[1:,:].sum(0)"
   ]
  },
  {
   "cell_type": "markdown",
   "metadata": {},
   "source": [
    "### comparing stochastic reproduction to survival in single unbroken lineage."
   ]
  },
  {
   "cell_type": "code",
   "execution_count": 24,
   "metadata": {
    "collapsed": false
   },
   "outputs": [
    {
     "data": {
      "text/plain": [
       "{0.01: 12, 0.1: 29, 0.25: 42, 0.5: 60}"
      ]
     },
     "execution_count": 24,
     "metadata": {},
     "output_type": "execute_result"
    }
   ],
   "source": [
    "# Get the discrete-frequency indices closest to our frequencies of interest\n",
    "closest_to_freq = lambda x: np.argmin(np.abs(freqs-x))\n",
    "desired_freqs = [0.01, 0.1, 0.25, 0.5]\n",
    "idxs = {df: closest_to_freq(df) for df in desired_freqs}\n",
    "idxs"
   ]
  },
  {
   "cell_type": "code",
   "execution_count": 25,
   "metadata": {
    "collapsed": false
   },
   "outputs": [
    {
     "data": {
      "text/plain": [
       "<matplotlib.legend.Legend at 0x7f00192ee350>"
      ]
     },
     "execution_count": 25,
     "metadata": {},
     "output_type": "execute_result"
    },
    {
     "data": {
      "image/png": "[encoded data removed]",
      "text/plain": [
       "<matplotlib.figure.Figure at 0x7f00192ee250>"
      ]
     },
     "metadata": {},
     "output_type": "display_data"
    }
   ],
   "source": [
    "plt.plot(freqs, avg_num_gens, label='single, unbroken lineage')\n",
    "ax = plt.gca()\n",
    "ax.plot(freqs, avg_num_gens_pois, label='birth-death model')\n",
    "ax.set_xlabel('initial frequency')\n",
    "ax.set_ylabel('mean survival time (generations)')\n",
    "ax.legend()"
   ]
  },
  {
   "cell_type": "code",
   "execution_count": 26,
   "metadata": {
    "collapsed": false
   },
   "outputs": [
    {
     "data": {
      "text/plain": [
       "{0.01: 12, 0.1: 29, 0.25: 42, 0.5: 60}"
      ]
     },
     "execution_count": 26,
     "metadata": {},
     "output_type": "execute_result"
    }
   ],
   "source": [
    "closest_to_freq = lambda x: np.argmin(np.abs(freqs-x))\n",
    "desired_freqs = [0.01, 0.1, 0.25, 0.5]\n",
    "idxs = {df: closest_to_freq(df) for df in desired_freqs}\n",
    "idxs"
   ]
  },
  {
   "cell_type": "code",
   "execution_count": 27,
   "metadata": {
    "collapsed": false
   },
   "outputs": [
    {
     "data": {
      "image/png": "[encoded data removed]",
      "text/plain": [
       "<matplotlib.figure.Figure at 0x7f0019711b10>"
      ]
     },
     "metadata": {},
     "output_type": "display_data"
    }
   ],
   "source": [
    "with mpl.rc_context({'font.size': 17}):\n",
    "    f, axes = plt.subplots(1,2, figsize=(12,5))\n",
    "\n",
    "    ax = axes[0]\n",
    "    gens_to_plot = 20\n",
    "    ci = 0\n",
    "    for dfreq, idx in sorted(idxs.items()):\n",
    "        color = 'C{}'.format(ci)\n",
    "        ci += 1\n",
    "        ax.plot(survive[:gens_to_plot, idx], color=color, label=dfreq)\n",
    "        ax.plot(survive_pois[:gens_to_plot, idx], color=color, ls='--')\n",
    "    ax.set_yscale('log')\n",
    "    ax.set_xlabel('generations')\n",
    "    ax.set_ylabel('survival probability')\n",
    "\n",
    "    with mpl.rc_context({'font.size': 11}):\n",
    "        ax.legend(title='init. frequency')\n",
    "\n",
    "    ax = axes[1]\n",
    "    ax.plot(freqs, avg_num_gens, label='single, unbroken lineage')\n",
    "    ax = plt.gca()\n",
    "    ax.plot(freqs, avg_num_gens_pois, label='birth-death model')\n",
    "    ax.set_xlabel('initial frequency')\n",
    "    ax.set_ylabel('mean survival time (generations)')\n",
    "    with mpl.rc_context({'font.size': 11}):\n",
    "        ax.legend()\n",
    "    with mpl.rc_context({'font.size': 26}):\n",
    "        axes[0].text(-0.1, 1.06, 'A', transform=axes[0].transAxes)\n",
    "        axes[1].text(-0.1, 1.06, 'B', transform=axes[1].transAxes)\n",
    "    f.tight_layout()\n",
    "\n",
    "\n",
    "    #plt.savefig('reproductive_stochasticity_results.png', dpi=600, bbox_inches='tight')\n",
    "    #plt.savefig('reproductive_stochasticity_results.pdf', dpi=600, bbox_inches='tight')"
   ]
  },
  {
   "cell_type": "markdown",
   "metadata": {},
   "source": [
    "# conditional upon fixation.\n",
    "\n",
    "Here we calculate the number of generations it takes for an allele to reach fixation, conditional on it eventually reaching fixation.\n",
    "\n",
    "See [here](https://math.dartmouth.edu/archive/m20x06/public_html/Lecture14.pdf) for an example of the terminology of the different matrices, which is fairly standard for analyzing Markov chains."
   ]
  },
  {
   "cell_type": "code",
   "execution_count": 28,
   "metadata": {
    "collapsed": false
   },
   "outputs": [],
   "source": [
    "# Fundamental matrix calculations. The first and last indices in the matrix correspond to the\n",
    "# two absorbing states at 0 and 1.\n",
    "import scipy.linalg as scl\n",
    "\n",
    "Q = mean_P[1:-1,1:-1]\n",
    "I = np.identity(Q.shape[0])\n",
    "N = scl.inv(I-Q)\n",
    "R = mean_P[1:-1,[0,-1]]"
   ]
  },
  {
   "cell_type": "code",
   "execution_count": 29,
   "metadata": {
    "collapsed": false
   },
   "outputs": [],
   "source": [
    "p_fix = np.dot(N,R)[:,1]\n",
    "p_fix_all = np.concatenate(([0], p_fix, [1]))"
   ]
  },
  {
   "cell_type": "code",
   "execution_count": 30,
   "metadata": {
    "collapsed": false
   },
   "outputs": [],
   "source": [
    "# Multiply each entry p_ij of mean_P by p_fix[j]/p_fix[i]\n",
    "with np.errstate(all='ignore'):\n",
    "    conditional_factors = p_fix_all[np.newaxis,:]/p_fix_all[:,np.newaxis]"
   ]
  },
  {
   "cell_type": "code",
   "execution_count": 31,
   "metadata": {
    "collapsed": true
   },
   "outputs": [],
   "source": [
    "conditional_factors[:,0] = 0\n",
    "conditional_factors[0,:] = 0"
   ]
  },
  {
   "cell_type": "code",
   "execution_count": 32,
   "metadata": {
    "collapsed": false
   },
   "outputs": [
    {
     "data": {
      "text/plain": [
       "(121, 121)"
      ]
     },
     "execution_count": 32,
     "metadata": {},
     "output_type": "execute_result"
    }
   ],
   "source": [
    "conditional_factors.shape"
   ]
  },
  {
   "cell_type": "code",
   "execution_count": 33,
   "metadata": {
    "collapsed": false
   },
   "outputs": [],
   "source": [
    "with np.errstate(divide='ignore'):\n",
    "    P_cond = np.exp(np.log(P)+np.log(conditional_factors))\n",
    "    P_cond[0,0] = 1.0\n",
    "    P_cond /= P_cond.sum(1)[np.newaxis,:]"
   ]
  },
  {
   "cell_type": "code",
   "execution_count": 34,
   "metadata": {
    "collapsed": true
   },
   "outputs": [],
   "source": [
    "P_cond_ns = np.array([npl.matrix_power(P_cond, i) for i in range(0,101)])"
   ]
  },
  {
   "cell_type": "code",
   "execution_count": 35,
   "metadata": {
    "collapsed": true
   },
   "outputs": [],
   "source": [
    "Q_cond = P_cond[1:-1, 1:-1]\n",
    "I_cond = np.identity(Q_cond.shape[0])\n",
    "N_cond = scl.inv(I_cond-Q_cond)"
   ]
  },
  {
   "cell_type": "code",
   "execution_count": 36,
   "metadata": {
    "collapsed": false
   },
   "outputs": [
    {
     "data": {
      "text/plain": [
       "0.00050    11.067140\n",
       "0.00100    11.076373\n",
       "0.00150    11.083640\n",
       "0.00200    11.087505\n",
       "0.00250    11.088610\n",
       "0.00300    11.087914\n",
       "0.00375    11.084688\n",
       "0.00475    11.078667\n",
       "0.00575    11.071829\n",
       "0.00700    11.063062\n",
       "0.00850    11.052190\n",
       "0.01025    11.039591\n",
       "0.01225    11.026219\n",
       "0.01450    11.013318\n",
       "0.01700    11.000964\n",
       "0.01975    10.987624\n",
       "0.02300    10.969903\n",
       "0.02675    10.946333\n",
       "0.03100    10.919440\n",
       "0.03550    10.894051\n",
       "0.04025    10.869359\n",
       "0.04550    10.841428\n",
       "0.05125    10.809548\n",
       "0.05750    10.774558\n",
       "0.06425    10.736764\n",
       "0.07150    10.696159\n",
       "0.07925    10.652643\n",
       "0.08750    10.606161\n",
       "0.09625    10.556635\n",
       "0.10550    10.504022\n",
       "             ...    \n",
       "0.89450     3.295888\n",
       "0.90375     3.129405\n",
       "0.91250     2.966959\n",
       "0.92075     2.809101\n",
       "0.92850     2.656441\n",
       "0.93575     2.509578\n",
       "0.94250     2.369160\n",
       "0.94875     2.235803\n",
       "0.95450     2.110113\n",
       "0.95975     1.992633\n",
       "0.96450     1.884110\n",
       "0.96900     1.779559\n",
       "0.97325     1.679216\n",
       "0.97700     1.589043\n",
       "0.98025     1.509456\n",
       "0.98300     1.441127\n",
       "0.98550     1.378321\n",
       "0.98775     1.321283\n",
       "0.98975     1.270150\n",
       "0.99150     1.225031\n",
       "0.99300     1.186034\n",
       "0.99425     1.153296\n",
       "0.99525     1.126955\n",
       "0.99625     1.100473\n",
       "0.99700     1.080517\n",
       "0.99750     1.067158\n",
       "0.99800     1.053759\n",
       "0.99850     1.040329\n",
       "0.99900     1.026882\n",
       "0.99950     1.013436\n",
       "Name: gens, Length: 119, dtype: float64"
      ]
     },
     "execution_count": 36,
     "metadata": {},
     "output_type": "execute_result"
    }
   ],
   "source": [
    "# These are the expected times until fixation conditional on eventual fixation,\n",
    "# for each starting frequency\n",
    "fixdat = pd.Series(N_cond.sum(1), index=freqs[1:-1], name='gens')\n",
    "fixdat"
   ]
  }
 ],
 "metadata": {
  "hide_input": false,
  "kernelspec": {
   "display_name": "Python [anaconda2]",
   "language": "python",
   "name": "Python [anaconda2]"
  },
  "language_info": {
   "codemirror_mode": {
    "name": "ipython",
    "version": 2
   },
   "file_extension": ".py",
   "mimetype": "text/x-python",
   "name": "python",
   "nbconvert_exporter": "python",
   "pygments_lexer": "ipython2",
   "version": "2.7.11"
  }
 },
 "nbformat": 4,
 "nbformat_minor": 0
}
